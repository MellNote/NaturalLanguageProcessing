{
  "nbformat": 4,
  "nbformat_minor": 0,
  "metadata": {
    "colab": {
      "name": "NaturalLanguageProcessing.ipynb",
      "provenance": [],
      "collapsed_sections": [],
      "machine_shape": "hm",
      "include_colab_link": true
    },
    "kernelspec": {
      "name": "python3",
      "display_name": "Python 3"
    }
  },
  "cells": [
    {
      "cell_type": "markdown",
      "metadata": {
        "id": "view-in-github",
        "colab_type": "text"
      },
      "source": [
        "<a href=\"https://colab.research.google.com/github/MellNote/NaturalLanguageProcessing/blob/master/NaturalLanguageProcessing.ipynb\" target=\"_parent\"><img src=\"https://colab.research.google.com/assets/colab-badge.svg\" alt=\"Open In Colab\"/></a>"
      ]
    },
    {
      "cell_type": "code",
      "metadata": {
        "id": "bcfUoDQ71Ca9",
        "colab_type": "code",
        "colab": {
          "base_uri": "https://localhost:8080/",
          "height": 34
        },
        "outputId": "83ca0be2-d149-4c96-9b1d-cd68b581828d"
      },
      "source": [
        "import numpy as np\n",
        "import csv\n",
        "import joblib\n",
        "from sklearn.linear_model import LogisticRegression\n",
        "from sklearn.metrics import accuracy_score\n",
        "\n",
        "from google.colab import drive\n",
        "drive.mount('/content/drive')\n"
      ],
      "execution_count": 1,
      "outputs": [
        {
          "output_type": "stream",
          "text": [
            "Drive already mounted at /content/drive; to attempt to forcibly remount, call drive.mount(\"/content/drive\", force_remount=True).\n"
          ],
          "name": "stdout"
        }
      ]
    },
    {
      "cell_type": "markdown",
      "metadata": {
        "id": "yDVQ5FzFujc1",
        "colab_type": "text"
      },
      "source": [
        "単語ベクトルの作成"
      ]
    },
    {
      "cell_type": "code",
      "metadata": {
        "id": "xjCuOD3dN6cR",
        "colab_type": "code",
        "colab": {}
      },
      "source": [
        "def make_word2id():\n",
        "    word2id = {} #ディクショナリ word2id = {'単語':単語id}\n",
        "\n",
        "    with open('drive/My Drive/train.txt', 'r', encoding='utf_8') as f:\n",
        "        morphemes = [s.strip()[1:] for s in f.readlines()]\n",
        "\n",
        "    for line in morphemes:\n",
        "        for word in line.split():\n",
        "            if word not in word2id:\n",
        "                word2id[word] = len(word2id)\n",
        "\n",
        "    \n",
        "\n",
        "    with open('drive/My Drive/dic.txt', 'w', encoding='utf_8') as f2:\n",
        "        for word in word2id:\n",
        "            f2.write('{},{}\\n'.format(word, word2id[word]))\n",
        "    return word2id\n"
      ],
      "execution_count": 2,
      "outputs": []
    },
    {
      "cell_type": "code",
      "metadata": {
        "id": "Ys3Mu40iFVJ-",
        "colab_type": "code",
        "colab": {
          "base_uri": "https://localhost:8080/",
          "height": 34
        },
        "outputId": "905ae772-ff9e-40ef-ab0f-7bf25823de26"
      },
      "source": [
        "from google.colab import drive\n",
        "drive.mount('/content/drive')"
      ],
      "execution_count": 3,
      "outputs": [
        {
          "output_type": "stream",
          "text": [
            "Drive already mounted at /content/drive; to attempt to forcibly remount, call drive.mount(\"/content/drive\", force_remount=True).\n"
          ],
          "name": "stdout"
        }
      ]
    },
    {
      "cell_type": "code",
      "metadata": {
        "id": "_k_10_lGpjgn",
        "colab_type": "code",
        "colab": {}
      },
      "source": [
        "def make_feature(word2id):\n",
        "    for text_name in ['train', 'test']:\n",
        "\n",
        "        with open('drive/My Drive/' + text_name + '.txt', 'r', encoding='utf_8') as f:\n",
        "            morphemes = [s.strip()[1:] for s in f.readlines()]\n",
        "            word_array = [0]*(len(word2id))\n",
        "            word_array2 = [] \n",
        "\n",
        "            for line in morphemes:\n",
        "                for word in line.split():\n",
        "                    if(word in word2id):\n",
        "                        word_array[word2id[word]]=1\n",
        "                \n",
        "                word_array2.append(word_array)\n",
        "                word_array = [0]*(len(word2id))\n",
        "\n",
        "        with open('drive/My Drive/' + text_name + '_feature.txt', 'w') as f2:\n",
        "     \n",
        "            for line in range(len(word_array2)):\n",
        "                maped_list=map(str,word_array2[line])\n",
        "                mojiretu=','.join(maped_list)\n",
        "\n",
        "                f2.write(mojiretu)\n",
        "                f2.write('\\n')"
      ],
      "execution_count": 4,
      "outputs": []
    },
    {
      "cell_type": "code",
      "metadata": {
        "id": "hwb1u7yv7Ojv",
        "colab_type": "code",
        "colab": {
          "base_uri": "https://localhost:8080/",
          "height": 355
        },
        "outputId": "efb1e389-383b-45b9-89ed-1038fb605baa"
      },
      "source": [
        "# 辞書(単語と単語idのリスト)の作成\n",
        "word2id = make_word2id()\n",
        "\n",
        "# テキストデータをベクトルに変換\n",
        "make_feature(word2id)\n"
      ],
      "execution_count": 5,
      "outputs": [
        {
          "output_type": "error",
          "ename": "FileNotFoundError",
          "evalue": "ignored",
          "traceback": [
            "\u001b[0;31m---------------------------------------------------------------------------\u001b[0m",
            "\u001b[0;31mFileNotFoundError\u001b[0m                         Traceback (most recent call last)",
            "\u001b[0;32m<ipython-input-5-ded6991e6a46>\u001b[0m in \u001b[0;36m<module>\u001b[0;34m()\u001b[0m\n\u001b[1;32m      1\u001b[0m \u001b[0;31m# 辞書(単語と単語idのリスト)の作成\u001b[0m\u001b[0;34m\u001b[0m\u001b[0;34m\u001b[0m\u001b[0;34m\u001b[0m\u001b[0m\n\u001b[0;32m----> 2\u001b[0;31m \u001b[0mword2id\u001b[0m \u001b[0;34m=\u001b[0m \u001b[0mmake_word2id\u001b[0m\u001b[0;34m(\u001b[0m\u001b[0;34m)\u001b[0m\u001b[0;34m\u001b[0m\u001b[0;34m\u001b[0m\u001b[0m\n\u001b[0m\u001b[1;32m      3\u001b[0m \u001b[0;34m\u001b[0m\u001b[0m\n\u001b[1;32m      4\u001b[0m \u001b[0;31m# テキストデータをベクトルに変換\u001b[0m\u001b[0;34m\u001b[0m\u001b[0;34m\u001b[0m\u001b[0;34m\u001b[0m\u001b[0m\n\u001b[1;32m      5\u001b[0m \u001b[0mmake_feature\u001b[0m\u001b[0;34m(\u001b[0m\u001b[0mword2id\u001b[0m\u001b[0;34m)\u001b[0m\u001b[0;34m\u001b[0m\u001b[0;34m\u001b[0m\u001b[0m\n",
            "\u001b[0;32m<ipython-input-2-5a0adbb144b8>\u001b[0m in \u001b[0;36mmake_word2id\u001b[0;34m()\u001b[0m\n\u001b[1;32m      2\u001b[0m     \u001b[0mword2id\u001b[0m \u001b[0;34m=\u001b[0m \u001b[0;34m{\u001b[0m\u001b[0;34m}\u001b[0m \u001b[0;31m#ディクショナリ word2id = {'単語':単語id}\u001b[0m\u001b[0;34m\u001b[0m\u001b[0;34m\u001b[0m\u001b[0m\n\u001b[1;32m      3\u001b[0m \u001b[0;34m\u001b[0m\u001b[0m\n\u001b[0;32m----> 4\u001b[0;31m     \u001b[0;32mwith\u001b[0m \u001b[0mopen\u001b[0m\u001b[0;34m(\u001b[0m\u001b[0;34m'drive/My Drive/train.txt'\u001b[0m\u001b[0;34m,\u001b[0m \u001b[0;34m'r'\u001b[0m\u001b[0;34m,\u001b[0m \u001b[0mencoding\u001b[0m\u001b[0;34m=\u001b[0m\u001b[0;34m'utf_8'\u001b[0m\u001b[0;34m)\u001b[0m \u001b[0;32mas\u001b[0m \u001b[0mf\u001b[0m\u001b[0;34m:\u001b[0m\u001b[0;34m\u001b[0m\u001b[0;34m\u001b[0m\u001b[0m\n\u001b[0m\u001b[1;32m      5\u001b[0m         \u001b[0mmorphemes\u001b[0m \u001b[0;34m=\u001b[0m \u001b[0;34m[\u001b[0m\u001b[0ms\u001b[0m\u001b[0;34m.\u001b[0m\u001b[0mstrip\u001b[0m\u001b[0;34m(\u001b[0m\u001b[0;34m)\u001b[0m\u001b[0;34m[\u001b[0m\u001b[0;36m1\u001b[0m\u001b[0;34m:\u001b[0m\u001b[0;34m]\u001b[0m \u001b[0;32mfor\u001b[0m \u001b[0ms\u001b[0m \u001b[0;32min\u001b[0m \u001b[0mf\u001b[0m\u001b[0;34m.\u001b[0m\u001b[0mreadlines\u001b[0m\u001b[0;34m(\u001b[0m\u001b[0;34m)\u001b[0m\u001b[0;34m]\u001b[0m\u001b[0;34m\u001b[0m\u001b[0;34m\u001b[0m\u001b[0m\n\u001b[1;32m      6\u001b[0m \u001b[0;34m\u001b[0m\u001b[0m\n",
            "\u001b[0;31mFileNotFoundError\u001b[0m: [Errno 2] No such file or directory: 'drive/My Drive/train.txt'"
          ]
        }
      ]
    },
    {
      "cell_type": "markdown",
      "metadata": {
        "id": "WzD4T_CmNEvk",
        "colab_type": "text"
      },
      "source": [
        "モデルの学習"
      ]
    },
    {
      "cell_type": "code",
      "metadata": {
        "id": "gVVqemFJ69ra",
        "colab_type": "code",
        "colab": {}
      },
      "source": [
        "def load_data(X_text,y_text):\n",
        "    # 特徴量の読み込み\n",
        "    with open(X_text,encoding=\"utf_8\") as f:\n",
        "        reader = csv.reader(f, delimiter=',')\n",
        "        X_data = [row for row in reader]\n",
        "\n",
        "    # カテゴリーIDの読み込み\n",
        "    with open(y_text,encoding=\"utf_8\") as f:\n",
        "        reader = csv.reader(f, delimiter='\\t')\n",
        "        y_data = [row[0] for row in reader]\n",
        "\n",
        "    # str型をfloat型に変換\n",
        "    for i in range(len(X_data)):\n",
        "        X_data[i] = [float(n) for n in X_data[i]]\n",
        "\n",
        "    y_data = [float(n) for n in y_data]\n",
        "\n",
        "    return X_data,y_data\n"
      ],
      "execution_count": null,
      "outputs": []
    },
    {
      "cell_type": "markdown",
      "metadata": {
        "id": "qmo0tGgrwhXL",
        "colab_type": "text"
      },
      "source": [
        "# 新しいセクション"
      ]
    },
    {
      "cell_type": "code",
      "metadata": {
        "id": "gWeqOdeTuPEH",
        "colab_type": "code",
        "colab": {}
      },
      "source": [
        "# 学習データの読み込み\n",
        "X_train,y_train = load_data('drive/My Drive/train_feature.txt','drive/My Drive/train.txt')\n",
        "\n",
        "# 評価データの読み込み\n",
        "X_test,y_test = load_data('drive/My Drive/test_feature.txt','drive/My Drive/test.txt')"
      ],
      "execution_count": null,
      "outputs": []
    },
    {
      "cell_type": "code",
      "metadata": {
        "id": "NQ6lj8RkNT1I",
        "colab_type": "code",
        "colab": {}
      },
      "source": [
        "# ロジスティック回帰モデルを学習\n",
        "lr = LogisticRegression(C=0.1) #正則化パラメータを0.1\n",
        "#lr = LogisticRegression()\n",
        "lr.fit(X_train,y_train)\n",
        "joblib.dump(lr, 'drive/My Drive/model.joblib')"
      ],
      "execution_count": null,
      "outputs": []
    },
    {
      "cell_type": "markdown",
      "metadata": {
        "id": "rs0W703GbI7v",
        "colab_type": "text"
      },
      "source": [
        "カテゴリ推定"
      ]
    },
    {
      "cell_type": "code",
      "metadata": {
        "id": "ROc7IARMbQC2",
        "colab_type": "code",
        "colab": {}
      },
      "source": [
        "# 学習モデルの読み込み\n",
        "lf = joblib.load('drive/My Drive/model.joblib')\n"
      ],
      "execution_count": null,
      "outputs": []
    },
    {
      "cell_type": "code",
      "metadata": {
        "id": "mYwIR3CScxL9",
        "colab_type": "code",
        "colab": {}
      },
      "source": [
        "# 正解率表示\n",
        "print(f'Accuracy: {accuracy_score(y_train, lf.predict(X_train))}')\n",
        "\n",
        "##lf.predict(X_test)で推定したカテゴリにアクセス可能\n",
        "res = lf.predict(X_test)\n",
        "print(res)\n",
        "proba = lf.predict_proba(X_train)\n",
        "print(proba)\n",
        "\n",
        "#特徴量の重みの確認\n",
        "# category = ['Business', 'Entertainment', 'Science and Technology', 'Health']\n",
        "# id2word = {v: k for k, v in word2id.items()}\n",
        "# for list in range(lf.coef_.shape[0]):\n",
        "#     for id in id2word:\n",
        "#         print(f'{category[list]}:{id2word[id]}:{lf.coef_[list][id]}')\n",
        "#\n",
        "## 上記まででも重みは確認可能だが、以下で重みの大きい上位10個や下位10個のidを獲得可能\n",
        "\n",
        "# largest_index = np.argsort(lf.coef_[list][:])[-11:-1]\n",
        "# smallest_index = np.argsort(lf.coef_[list][:])[0:9]\n",
        "\n",
        "#### 出力部分 #####\n",
        "\n",
        "category = ['Business', 'Entertainment', 'Science and Technology', 'Health']\n",
        "id2word = {v: k for k, v in word2id.items()}\n",
        "for list in range(lf.coef_.shape[0]):\n",
        "  largest_index = np.argsort(lf.coef_[list][:])[-11:-1]\n",
        "  smallest_index = np.argsort(lf.coef_[list][:])[0:9]\n",
        "  \n",
        "  print(category[list] + \" largest:\")\n",
        "  print([id2word[x] for x in largest_index])\n",
        "  print([lf.coef_[list][x] for x in largest_index])\n",
        "\n",
        "  print(category[list] + \" smallest:\")\n",
        "  print([id2word[x] for x in smallest_index])\n",
        "  print([lf.coef_[list][x] for x in smallest_index])\n"
      ],
      "execution_count": null,
      "outputs": []
    }
  ]
}